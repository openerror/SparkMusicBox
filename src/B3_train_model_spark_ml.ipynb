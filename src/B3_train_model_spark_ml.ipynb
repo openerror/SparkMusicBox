{
 "cells": [
  {
   "cell_type": "markdown",
   "metadata": {},
   "source": [
    "# Build Churn Prediction Model (Spark MLib)\n",
    "... for when there's so much data that Spark becomes a necessity. "
   ]
  },
  {
   "cell_type": "markdown",
   "metadata": {},
   "source": [
    "## Load data; final check of integrity"
   ]
  },
  {
   "cell_type": "code",
   "execution_count": 1,
   "metadata": {},
   "outputs": [],
   "source": [
    "# Start a Spark session, in case we're not invoking from CMD as 'pyspark'\n",
    "from pyspark.sql import SparkSession\n",
    "spark = SparkSession.builder.master(\"local\").appName(\"Feature Engineering\").getOrCreate()"
   ]
  },
  {
   "cell_type": "code",
   "execution_count": null,
   "metadata": {},
   "outputs": [],
   "source": [
    "from pyspark.sql.types import *\n",
    "import pyspark.sql.functions as F\n",
    "from pyspark.mllib.linalg import Vectors\n",
    "from pyspark.mllib.linalg import DenseVector\n",
    "from pyspark.ml.feature import VectorAssembler\n",
    "from pyspark.ml.feature import StringIndexer, VectorIndexer\n",
    "from pyspark.ml import Pipeline\n",
    "from pyspark.ml.classification import LogisticRegression\n",
    "# from pyspark.ml.classification import RandomForestClassifier\n",
    "from pyspark.ml.classification import GBTClassifier\n",
    "from pyspark.ml.evaluation import BinaryClassificationEvaluator\n",
    "from pyspark.ml.tuning import CrossValidator, ParamGridBuilder\n",
    "# from pyspark.ml.evaluation import MulticlassClassificationEvaluator"
   ]
  },
  {
   "cell_type": "code",
   "execution_count": 3,
   "metadata": {},
   "outputs": [
    {
     "name": "stdout",
     "output_type": "stream",
     "text": [
      "+---------+-----+-------------+-------------+-------------+--------------+--------------+-------------+-------------+-------------+--------------+--------------+-------------+-------------+-------------+--------------+--------------+---------+---------+---------+----------------+----------------+----------------+-----------------+-----------------+-----------+\n",
      "|      uid|label|freq_P_last_1|freq_P_last_3|freq_P_last_7|freq_P_last_14|freq_P_last_30|freq_D_last_1|freq_D_last_3|freq_D_last_7|freq_D_last_14|freq_D_last_30|freq_S_last_1|freq_S_last_3|freq_S_last_7|freq_S_last_14|freq_S_last_30|recency_P|recency_D|recency_S|play_time_last_1|play_time_last_3|play_time_last_7|play_time_last_14|play_time_last_30|device_type|\n",
      "+---------+-----+-------------+-------------+-------------+--------------+--------------+-------------+-------------+-------------+--------------+--------------+-------------+-------------+-------------+--------------+--------------+---------+---------+---------+----------------+----------------+----------------+-----------------+-----------------+-----------+\n",
      "| 34509854|    1|            7|           11|           11|            11|           141|            0|            0|            0|             0|             0|            0|            0|            0|             0|             0|      1.0|      0.0|      0.0|          4859.0|          5803.0|          5803.0|           5803.0|          64117.0|          2|\n",
      "| 87772572|    0|            0|           47|          168|           411|           514|            0|            0|            0|             0|             0|            0|            1|            2|             4|            15|      2.0|      0.0|      3.0|             0.0|          3208.0|         13282.0|          40604.0|          50403.0|          2|\n",
      "|107648598|    1|            0|            0|            0|             0|             2|            0|            0|            0|             0|             0|            0|            0|            0|             0|             0|     30.0|      0.0|      0.0|             0.0|             0.0|             0.0|              0.0|             42.0|          2|\n",
      "|148769344|    1|            0|            0|            0|             0|             3|            0|            0|            0|             0|             0|            0|            0|            0|             2|             3|     29.0|      0.0|     10.0|             0.0|             0.0|             0.0|              0.0|            489.0|          2|\n",
      "|166225978|    1|            0|            0|            0|             0|           182|            0|            0|            0|             0|             1|            0|            0|            0|             0|            34|     26.0|     28.0|     26.0|             0.0|             0.0|             0.0|              0.0|           2784.0|          2|\n",
      "+---------+-----+-------------+-------------+-------------+--------------+--------------+-------------+-------------+-------------+--------------+--------------+-------------+-------------+-------------+--------------+--------------+---------+---------+---------+----------------+----------------+----------------+-----------------+-----------------+-----------+\n",
      "only showing top 5 rows\n",
      "\n"
     ]
    }
   ],
   "source": [
    "df = spark.read.csv('../data/df_model_final.csv',header=True,inferSchema=True).cache()\n",
    "df.show(5)"
   ]
  },
  {
   "cell_type": "code",
   "execution_count": 4,
   "metadata": {},
   "outputs": [],
   "source": [
    "# Remove observations (rows) with excessively long play_time\n",
    "# Same logic as in notebook 5\n",
    "df_cleaned = df.filter(F.col('play_time_last_30') <= 1e6)"
   ]
  },
  {
   "cell_type": "markdown",
   "metadata": {},
   "source": [
    "## Define Features and Target Variables"
   ]
  },
  {
   "cell_type": "code",
   "execution_count": 5,
   "metadata": {},
   "outputs": [
    {
     "data": {
      "text/plain": [
       "['freq_P_last_1',\n",
       " 'freq_P_last_3',\n",
       " 'freq_P_last_7',\n",
       " 'freq_P_last_14',\n",
       " 'freq_P_last_30',\n",
       " 'freq_D_last_1',\n",
       " 'freq_D_last_3',\n",
       " 'freq_D_last_7',\n",
       " 'freq_D_last_14',\n",
       " 'freq_D_last_30',\n",
       " 'freq_S_last_1',\n",
       " 'freq_S_last_3',\n",
       " 'freq_S_last_7',\n",
       " 'freq_S_last_14',\n",
       " 'freq_S_last_30',\n",
       " 'recency_P',\n",
       " 'recency_D',\n",
       " 'recency_S',\n",
       " 'play_time_last_1',\n",
       " 'play_time_last_3',\n",
       " 'play_time_last_7',\n",
       " 'play_time_last_14',\n",
       " 'play_time_last_30']"
      ]
     },
     "execution_count": 5,
     "metadata": {},
     "output_type": "execute_result"
    }
   ],
   "source": [
    "selected_features = df_cleaned.columns\n",
    "selected_features.remove('uid')\n",
    "selected_features.remove('label')\n",
    "selected_features.remove('device_type')\n",
    "\n",
    "# Check results of removal\n",
    "selected_features"
   ]
  },
  {
   "cell_type": "code",
   "execution_count": 6,
   "metadata": {},
   "outputs": [],
   "source": [
    "# Concatenate all features into one Spark Vector/Column\n",
    "assembler = VectorAssembler(\n",
    "    inputCols=selected_features,\n",
    "    outputCol=\"features\")\n",
    "data = assembler.transform(df_cleaned)\n",
    "\n",
    "# train-test split\n",
    "(train, test) = data.randomSplit([0.7, 0.3], seed=1)"
   ]
  },
  {
   "cell_type": "markdown",
   "metadata": {},
   "source": [
    "## Train and Evaluate Models\n",
    "First, define helper functions that\n",
    "1. Plot ROC for getting an intuition on model performance"
   ]
  },
  {
   "cell_type": "code",
   "execution_count": 7,
   "metadata": {},
   "outputs": [],
   "source": [
    "%matplotlib inline\n",
    "import matplotlib.pyplot as plt\n",
    "from sklearn.metrics import roc_curve, auc, roc_auc_score\n",
    "\n",
    "def plot_roc_curve(y_train, y_train_pred, y_test, y_test_pred):\n",
    "    roc_auc_train = roc_auc_score(y_train, y_train_pred)\n",
    "    fpr_train, tpr_train, _ = roc_curve(y_train, y_train_pred)\n",
    "\n",
    "    roc_auc_test = roc_auc_score(y_test, y_test_pred)\n",
    "    fpr_test, tpr_test, _ = roc_curve(y_test, y_test_pred)\n",
    "    plt.figure()\n",
    "    lw = 2\n",
    "    plt.plot(fpr_train, tpr_train, color='green',\n",
    "             lw=lw, label='ROC Train (AUC = %0.4f)' % roc_auc_train)\n",
    "    plt.plot(fpr_test, tpr_test, color='darkorange',\n",
    "             lw=lw, label='ROC Test (AUC = %0.4f)' % roc_auc_test)\n",
    "    plt.plot([0, 1], [0, 1], color='navy', lw=lw, linestyle='--')\n",
    "    plt.xlim([0.0, 1.0])\n",
    "    plt.ylim([0.0, 1.05])\n",
    "    plt.xlabel('False Positive Rate')\n",
    "    plt.ylabel('True Positive Rate')\n",
    "    plt.title('Receiver operating characteristic example')\n",
    "    plt.legend(loc=\"lower right\")\n",
    "    plt.show()"
   ]
  },
  {
   "cell_type": "markdown",
   "metadata": {},
   "source": [
    "### Let the models fly!\n",
    "\n",
    "Gradient boosting are performing slightly better than logistic regression (+0.02 AUC), but logistic regression may be preferable when performance is absolutely key."
   ]
  },
  {
   "cell_type": "markdown",
   "metadata": {},
   "source": [
    "### Logistic regression"
   ]
  },
  {
   "cell_type": "code",
   "execution_count": 8,
   "metadata": {},
   "outputs": [],
   "source": [
    "ml = LogisticRegression(maxIter=5, regParam=0.01)\n",
    "model = ml.fit(train)"
   ]
  },
  {
   "cell_type": "code",
   "execution_count": 9,
   "metadata": {},
   "outputs": [
    {
     "name": "stdout",
     "output_type": "stream",
     "text": [
      "+--------------------+----------+-----+--------------------+\n",
      "|         probability|prediction|label|            features|\n",
      "+--------------------+----------+-----+--------------------+\n",
      "|[0.79260946543441...|       0.0|    0|(23,[0,1,2,3,4,14...|\n",
      "|[0.04532106883440...|       1.0|    1|(23,[4,9,15,16,22...|\n",
      "|[0.06792362479444...|       1.0|    1|(23,[4,15,22],[60...|\n",
      "|[0.40627924993573...|       1.0|    1|(23,[3,4,9,14,15,...|\n",
      "|[0.59731234041476...|       0.0|    0|(23,[1,2,3,4,11,1...|\n",
      "+--------------------+----------+-----+--------------------+\n",
      "only showing top 5 rows\n",
      "\n",
      "+--------------------+----------+-----+--------------------+\n",
      "|         probability|prediction|label|            features|\n",
      "+--------------------+----------+-----+--------------------+\n",
      "|[0.81306867008627...|       0.0|    0|[0.0,51.0,62.0,67...|\n",
      "|[0.35595938735820...|       1.0|    1|(23,[3,4,15,21,22...|\n",
      "|[0.81032920326882...|       0.0|    0|[26.0,40.0,40.0,8...|\n",
      "|[0.58305030750356...|       0.0|    1|(23,[2,3,4,12,13,...|\n",
      "|[0.70230226452543...|       0.0|    0|(23,[0,1,2,3,4,13...|\n",
      "+--------------------+----------+-----+--------------------+\n",
      "only showing top 5 rows\n",
      "\n"
     ]
    }
   ],
   "source": [
    "#### Predict and evaluate performance\n",
    "#### First, by printing predictions for both training and test sets\n",
    "\n",
    "# Predict on training data\n",
    "predictions_train = model.transform(train)\n",
    "\n",
    "# Select example rows to display.\n",
    "# probability: raw output of logistic regression model; probability of label *zero*\n",
    "predictions_train.select(\"probability\",\"prediction\", \"label\", \"features\").show(5)\n",
    "res_train = predictions_train.select(\"probability\", \"label\").toPandas()\n",
    "\n",
    "# Predict on test data\n",
    "predictions_test = model.transform(test)\n",
    "\n",
    "# Select example rows to display.\n",
    "predictions_test.select(\"probability\",\"prediction\", \"label\", \"features\").show(5)\n",
    "res_test = predictions_test.select(\"probability\", \"label\").toPandas()"
   ]
  },
  {
   "cell_type": "code",
   "execution_count": 10,
   "metadata": {},
   "outputs": [
    {
     "data": {
      "image/png": "[encoded data removed]",
      "text/plain": [
       "<Figure size 432x288 with 1 Axes>"
      ]
     },
     "metadata": {
      "needs_background": "light"
     },
     "output_type": "display_data"
    }
   ],
   "source": [
    "# Plot ROC for visual understanding of performance\n",
    "# AUC ~0.88 is quite high --- and comparable to sklearn's. Great!\n",
    "\n",
    "y_train = res_train['label']\n",
    "y_train_pred = [v[1] for v in res_train['probability']]\n",
    "y_test = res_test['label']\n",
    "y_test_pred = [v[1] for v in res_test['probability']]\n",
    "\n",
    "plot_roc_curve(y_train, y_train_pred, y_test, y_test_pred)"
   ]
  },
  {
   "cell_type": "markdown",
   "metadata": {},
   "source": [
    "### Gradient Boosting\n",
    "Default parameters give train/test AUC of 0.9055/0.9045. Comparable to sklearn results, and acceptable in production setting."
   ]
  },
  {
   "cell_type": "code",
   "execution_count": 11,
   "metadata": {},
   "outputs": [],
   "source": [
    "# Explicitly displaying default parameters\n",
    "ml = GBTClassifier(\n",
    "    labelCol = 'label', featuresCol = 'features',\n",
    "    maxDepth = 5, stepSize = 0.1,\n",
    "    maxIter = 20\n",
    ")\n",
    "\n",
    "model = ml.fit(train)"
   ]
  },
  {
   "cell_type": "code",
   "execution_count": 12,
   "metadata": {},
   "outputs": [
    {
     "name": "stdout",
     "output_type": "stream",
     "text": [
      "+--------------------+----------+-----+--------------------+\n",
      "|         probability|prediction|label|            features|\n",
      "+--------------------+----------+-----+--------------------+\n",
      "|[0.92536380882826...|       0.0|    0|(23,[0,1,2,3,4,14...|\n",
      "|[0.08828725570621...|       1.0|    1|(23,[4,9,15,16,22...|\n",
      "|[0.07984879858429...|       1.0|    1|(23,[4,15,22],[60...|\n",
      "|[0.47299668918918...|       1.0|    1|(23,[3,4,9,14,15,...|\n",
      "|[0.78722029425982...|       0.0|    0|(23,[1,2,3,4,11,1...|\n",
      "+--------------------+----------+-----+--------------------+\n",
      "only showing top 5 rows\n",
      "\n",
      "+--------------------+----------+-----+--------------------+\n",
      "|         probability|prediction|label|            features|\n",
      "+--------------------+----------+-----+--------------------+\n",
      "|[0.84605142090569...|       0.0|    0|[0.0,51.0,62.0,67...|\n",
      "|[0.24406615390200...|       1.0|    1|(23,[3,4,15,21,22...|\n",
      "|[0.94327009861156...|       0.0|    0|[26.0,40.0,40.0,8...|\n",
      "|[0.79844950446525...|       0.0|    1|(23,[2,3,4,12,13,...|\n",
      "|[0.88824497369466...|       0.0|    0|(23,[0,1,2,3,4,13...|\n",
      "+--------------------+----------+-----+--------------------+\n",
      "only showing top 5 rows\n",
      "\n"
     ]
    }
   ],
   "source": [
    "#### Predict and evaluate performance\n",
    "#### First, by printing predictions for both training and test sets\n",
    "\n",
    "# Predict train data\n",
    "predictions_train = model.transform(train)\n",
    "\n",
    "# Select example rows to display.\n",
    "predictions_train.select(\"probability\",\"prediction\", \"label\", \"features\").show(5)\n",
    "res_train = predictions_train.select(\"probability\", \"label\").toPandas()\n",
    "\n",
    "\n",
    "# Predict test data\n",
    "predictions_test = model.transform(test)\n",
    "\n",
    "# Select example rows to display.\n",
    "predictions_test.select(\"probability\", \"prediction\", \"label\", \"features\").show(5)\n",
    "res_test = predictions_test.select(\"probability\", \"label\").toPandas()"
   ]
  },
  {
   "cell_type": "code",
   "execution_count": 13,
   "metadata": {},
   "outputs": [
    {
     "data": {
      "image/png": "[encoded data removed]",
      "text/plain": [
       "<Figure size 432x288 with 1 Axes>"
      ]
     },
     "metadata": {
      "needs_background": "light"
     },
     "output_type": "display_data"
    }
   ],
   "source": [
    "# Plot ROC for visual understanding of performance\n",
    "# AUC ~0.89 is quite high --- and comparable to sklearn's. Great!\n",
    "\n",
    "y_train = res_train['label']\n",
    "y_train_pred = [v[1] for v in res_train['probability']]\n",
    "y_test = res_test['label']\n",
    "y_test_pred = [v[1] for v in res_test['probability']]\n",
    "\n",
    "plot_roc_curve(y_train, y_train_pred, y_test, y_test_pred)"
   ]
  },
  {
   "cell_type": "markdown",
   "metadata": {},
   "source": [
    "## Cross-validation to ensure robust performance\n",
    "There isn't much to tune for logistic regression, but we can try to improve the performance of gradient boosting. "
   ]
  },
  {
   "cell_type": "code",
   "execution_count": 15,
   "metadata": {},
   "outputs": [],
   "source": [
    "# Classifer to be tuned\n",
    "gbt = GBTClassifier()\n",
    "\n",
    "# Parameter grid to be searched over\n",
    "paramGrid = ParamGridBuilder() \\\n",
    "    .addGrid(gbt.maxDepth, [4,5,6]) \\\n",
    "    .addGrid(gbt.maxIter, [20,30,40,60]) \\\n",
    "    .addGrid(gbt.stepSize, [0.1/3.0, 0.005, 0.1/1.5, 0.1])\\\n",
    "    .build()\n",
    "\n",
    "# Define details of cross-validation; e.g. how many folds?\n",
    "crossval = CrossValidator(estimator=gbt,\n",
    "                          estimatorParamMaps=paramGrid,\n",
    "                          evaluator=BinaryClassificationEvaluator(),\n",
    "                          numFolds=3)  # use 3+ folds in practice\n",
    "\n",
    "# Run cross-validation, and choose the best set of parameters.\n",
    "cvModel = crossval.fit(train)"
   ]
  },
  {
   "cell_type": "code",
   "execution_count": null,
   "metadata": {},
   "outputs": [],
   "source": [
    "# Fit tuned model on training and test sets\n",
    "cv_train = cvModel.transform(train)\n",
    "cv_test = cvModel.transform(test)\n",
    "\n",
    "# Extract output of tuned model, to be plotted as ROC\n",
    "res_train = cv_train.select(\"probability\", \"label\").toPandas()\n",
    "res_test = cv_test.select(\"probability\", \"label\").toPandas()"
   ]
  },
  {
   "cell_type": "code",
   "execution_count": null,
   "metadata": {},
   "outputs": [],
   "source": [
    "# Plot ROC for CV-tuned model\n",
    "# Result: negligible improvement for the time spent ...\n",
    "\n",
    "y_train = res_train['label']\n",
    "y_train_pred = [v[1] for v in res_train['probability']]\n",
    "y_test = res_test['label']\n",
    "y_test_pred = [v[1] for v in res_test['probability']]\n",
    "\n",
    "plot_roc_curve(y_train, y_train_pred, y_test, y_test_pred)"
   ]
  }
 ],
 "metadata": {
  "kernelspec": {
   "display_name": "Python 3",
   "language": "python",
   "name": "python3"
  },
  "language_info": {
   "codemirror_mode": {
    "name": "ipython",
    "version": 3
   },
   "file_extension": ".py",
   "mimetype": "text/x-python",
   "name": "python",
   "nbconvert_exporter": "python",
   "pygments_lexer": "ipython3",
   "version": "3.7.2"
  }
 },
 "nbformat": 4,
 "nbformat_minor": 2
}
