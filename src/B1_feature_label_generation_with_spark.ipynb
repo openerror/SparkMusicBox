{
 "cells": [
  {
   "cell_type": "markdown",
   "metadata": {},
   "source": [
    "# Feature Engineering Using Spark SQL\n",
    "Load data into Spark DataFrame, and create the features necessary for churn prediction"
   ]
  },
  {
   "cell_type": "markdown",
   "metadata": {},
   "source": [
    "### Load libraries, files and prepare for processing"
   ]
  },
  {
   "cell_type": "code",
   "execution_count": 1,
   "metadata": {},
   "outputs": [],
   "source": [
    "# Start a Spark session, in case not invoking from CMD as 'pyspark'\n",
    "from pyspark.sql import SparkSession\n",
    "spark = SparkSession.builder.master(\"local\").appName(\"Feature Engineering\").getOrCreate()"
   ]
  },
  {
   "cell_type": "code",
   "execution_count": 2,
   "metadata": {},
   "outputs": [],
   "source": [
    "import pyspark.sql.functions as F\n",
    "import matplotlib.pyplot as plt\n",
    "plt.style.use('ggplot')"
   ]
  },
  {
   "cell_type": "code",
   "execution_count": 3,
   "metadata": {},
   "outputs": [
    {
     "data": {
      "text/plain": [
       "DataFrame[uid: int, event: string, song_id: double, date: timestamp]"
      ]
     },
     "execution_count": 3,
     "metadata": {},
     "output_type": "execute_result"
    }
   ],
   "source": [
    "# Load file\n",
    "# Took 30 secs at least on 16GB 2015 Macbook Pro\n",
    "df = spark.read.format('csv').options(header='true', inferSchema='true').load(\"../data/event_ds.csv\").cache()\n",
    "df"
   ]
  },
  {
   "cell_type": "code",
   "execution_count": 4,
   "metadata": {},
   "outputs": [
    {
     "name": "stdout",
     "output_type": "stream",
     "text": [
      "+---------+-----+-----------+-------------------+\n",
      "|      uid|event|    song_id|               date|\n",
      "+---------+-----+-----------+-------------------+\n",
      "|168540455|    P|   298250.0|2017-03-30 00:00:00|\n",
      "|168550728|    P|   285233.0|2017-03-30 00:00:00|\n",
      "|168551524|    P|  6635279.0|2017-03-30 00:00:00|\n",
      "|168543348|    P|        0.0|2017-03-30 00:00:00|\n",
      "|168550948|    P|   277286.0|2017-03-30 00:00:00|\n",
      "|168548945|    P|2.0429929E7|2017-03-30 00:00:00|\n",
      "|168550838|    P|    99018.0|2017-03-30 00:00:00|\n",
      "|168549948|    P|2.3082492E7|2017-03-30 00:00:00|\n",
      "|168547123|    P|        0.0|2017-03-30 00:00:00|\n",
      "|168551442|    P|  1474915.0|2017-03-30 00:00:00|\n",
      "|168543348|    P|        0.0|2017-03-30 00:00:00|\n",
      "|168551311|    P|  7149583.0|2017-03-30 00:00:00|\n",
      "|168551311|    P|  6359029.0|2017-03-30 00:00:00|\n",
      "|168551311|    P|  6660691.0|2017-03-30 00:00:00|\n",
      "|168550597|    P|   126530.0|2017-03-30 00:00:00|\n",
      "|168543348|    P|        0.0|2017-03-30 00:00:00|\n",
      "|168551524|    P|  6635281.0|2017-03-30 00:00:00|\n",
      "|168551406|    P|   478338.0|2017-03-30 00:00:00|\n",
      "|168551233|    P|2.3491654E7|2017-03-30 00:00:00|\n",
      "|168530975|    P|  6237732.0|2017-03-30 00:00:00|\n",
      "+---------+-----+-----------+-------------------+\n",
      "only showing top 20 rows\n",
      "\n"
     ]
    }
   ],
   "source": [
    "# Confirm that we have day-level, time-stamped data of user activity\n",
    "df.show()"
   ]
  },
  {
   "cell_type": "code",
   "execution_count": 5,
   "metadata": {},
   "outputs": [
    {
     "data": {
      "text/plain": [
       "DataFrame[uid: int, event: string, song_id: double, date: date]"
      ]
     },
     "execution_count": 5,
     "metadata": {},
     "output_type": "execute_result"
    }
   ],
   "source": [
    "# Cast 'date' column into 'date' type. Especially since we don't have hour-level data anyway!\n",
    "df = df.withColumn('date', F.col('date').cast('date'))\n",
    "\n",
    "# Confirm results of typecasting\n",
    "df "
   ]
  },
  {
   "cell_type": "markdown",
   "metadata": {},
   "source": [
    "## Data Exploration"
   ]
  },
  {
   "cell_type": "code",
   "execution_count": 6,
   "metadata": {},
   "outputs": [
    {
     "data": {
      "text/plain": [
       "11523915"
      ]
     },
     "execution_count": 6,
     "metadata": {},
     "output_type": "execute_result"
    }
   ],
   "source": [
    "# Count number of events\n",
    "# In the 10 millions!\n",
    "df.count()"
   ]
  },
  {
   "cell_type": "code",
   "execution_count": 7,
   "metadata": {},
   "outputs": [
    {
     "data": {
      "text/plain": [
       "64527"
      ]
     },
     "execution_count": 7,
     "metadata": {},
     "output_type": "execute_result"
    }
   ],
   "source": [
    "# Count distinct users --- match with notebook 3 confirmed\n",
    "df.select('uid').distinct().count()"
   ]
  },
  {
   "cell_type": "code",
   "execution_count": 8,
   "metadata": {},
   "outputs": [
    {
     "name": "stdout",
     "output_type": "stream",
     "text": [
      "+-----+--------+\n",
      "|event|   count|\n",
      "+-----+--------+\n",
      "|    D|  632820|\n",
      "|    S|  791517|\n",
      "|    P|10099578|\n",
      "+-----+--------+\n",
      "\n"
     ]
    }
   ],
   "source": [
    "# Count each type of events\n",
    "# The vast majority are plays!\n",
    "df.groupBy('event').count().show()"
   ]
  },
  {
   "cell_type": "code",
   "execution_count": 9,
   "metadata": {},
   "outputs": [
    {
     "name": "stdout",
     "output_type": "stream",
     "text": [
      "+-----+--------+---------+\n",
      "|event|   count|  max_uid|\n",
      "+-----+--------+---------+\n",
      "|    D|  632820|169246553|\n",
      "|    S|  791517|169246553|\n",
      "|    P|10099578|169251556|\n",
      "+-----+--------+---------+\n",
      "\n"
     ]
    }
   ],
   "source": [
    "# First compute the relevant, then aggregate using max/min/mean etc\n",
    "# Here we found the user who performed the most D/S/P events\n",
    "# Not useful immediately, but potentially useful for studying behavior of 'most active users'\n",
    "df.groupBy('event').agg(\n",
    "    F.count(F.col('uid')).alias('count'),\n",
    "    F.max(F.col('uid')).alias('max_uid')\n",
    ").show()"
   ]
  },
  {
   "cell_type": "markdown",
   "metadata": {},
   "source": [
    "#### How does the amount of events changed as time progressed?"
   ]
  },
  {
   "cell_type": "code",
   "execution_count": 10,
   "metadata": {},
   "outputs": [],
   "source": [
    "# Can use df.filter, in case we're interested in a restricted time frame\n",
    "# df.filter((F.col('date')>='2017-04-01') & (F.col('date')<='2017-04-05')) \\\n",
    "#                     .groupBy('date','event').count() \\\n",
    "#                     .orderBy('date','event').show()"
   ]
  },
  {
   "cell_type": "code",
   "execution_count": 11,
   "metadata": {},
   "outputs": [],
   "source": [
    "# But since we don't have much data, there'll be no filtering\n",
    "date_count = df.groupBy('date').count().toPandas()\n",
    "\n",
    "# Sort by date for easier reading and intuitive plotting\n",
    "date_count = date_count.sort_values(by='date')"
   ]
  },
  {
   "cell_type": "code",
   "execution_count": 12,
   "metadata": {},
   "outputs": [
    {
     "data": {
      "text/plain": [
       "(array([ 0,  1,  2,  3,  4,  5,  6,  7,  8,  9, 10, 11, 12, 13, 14, 15, 16,\n",
       "        17, 18, 19, 20, 21, 22, 23, 24, 25, 26, 27, 28, 29, 30, 31, 32, 33,\n",
       "        34, 35, 36, 37, 38, 39, 40, 41, 42, 43]),\n",
       " <a list of 44 Text xticklabel objects>)"
      ]
     },
     "execution_count": 12,
     "metadata": {},
     "output_type": "execute_result"
    },
    {
     "data": {
      "image/png": "[encoded data removed]",
      "text/plain": [
       "<Figure size 864x864 with 1 Axes>"
      ]
     },
     "metadata": {
      "needs_background": "light"
     },
     "output_type": "display_data"
    }
   ],
   "source": [
    "# Clear *global* decrease in the number of events, as time went on!!\n",
    "# What could have gone wrong? Is there several churning? Must explore further\n",
    "\n",
    "plt.rcParams['figure.figsize'] = (12, 12)\n",
    "plt.rcParams['font.size'] = 16\n",
    "date_count.plot.bar('date', 'count')\n",
    "\n",
    "plt.title(\"Total Number of Events, Per Day\")\n",
    "plt.ylabel(\"Frequency\")\n",
    "plt.xlabel('Date')\n",
    "plt.xticks(rotation='vertical')"
   ]
  },
  {
   "cell_type": "markdown",
   "metadata": {},
   "source": [
    "#### See if the above trend differs among the 3 event types\n",
    "In short, it **is** different. See eventual plot and comments below it for more details."
   ]
  },
  {
   "cell_type": "code",
   "execution_count": 13,
   "metadata": {},
   "outputs": [],
   "source": [
    "# Count events by type and date; must cache otherwise the operations that follow take forever\n",
    "counts_by_event = df.groupBy(['event', 'date']).count().cache()\n",
    "\n",
    "# Separate Pandas DF for each event\n",
    "play_count = counts_by_event.filter(F.col('event') == 'P').toPandas()\n",
    "download_count = counts_by_event.filter(F.col('event') == 'D').toPandas()\n",
    "search_count = counts_by_event.filter(F.col('event') == 'S').toPandas()\n",
    "\n",
    "# Sort date for eventual plotting\n",
    "play_count.sort_values(by='date', inplace=True)\n",
    "download_count.sort_values(by='date', inplace=True)\n",
    "search_count.sort_values(by='date', inplace=True)"
   ]
  },
  {
   "cell_type": "code",
   "execution_count": 14,
   "metadata": {},
   "outputs": [],
   "source": [
    "# Normalize by the amount on the first day\n",
    "play_count['count'] = play_count['count'] / play_count['count'].iloc[0]\n",
    "download_count['count'] = download_count['count'] / download_count['count'].iloc[0]\n",
    "search_count['count'] = search_count['count'] / search_count['count'].iloc[0]"
   ]
  },
  {
   "cell_type": "code",
   "execution_count": 15,
   "metadata": {},
   "outputs": [
    {
     "data": {
      "text/plain": [
       "(array([736417., 736420., 736427., 736434., 736441., 736448., 736450.,\n",
       "        736457.]), <a list of 8 Text xticklabel objects>)"
      ]
     },
     "execution_count": 15,
     "metadata": {},
     "output_type": "execute_result"
    },
    {
     "data": {
      "image/png": "[encoded data removed]",
      "text/plain": [
       "<Figure size 864x864 with 1 Axes>"
      ]
     },
     "metadata": {
      "needs_background": "light"
     },
     "output_type": "display_data"
    }
   ],
   "source": [
    "# Then plot!\n",
    "\n",
    "fig, ax = plt.subplots()\n",
    "play_count.plot(x='date', y='count', ax=ax, label=\"Play\", style='-+')\n",
    "download_count.plot(x='date', y='count', ax=ax, label=\"Download\", style='-+')\n",
    "search_count.plot(x='date', y='count', ax=ax, label=\"Search\", style='-+')\n",
    "\n",
    "ax.set_title(\"Normalized Count of Events, Against Time\")\n",
    "ax.set_ylabel(\"Event count, normalized on first day\")\n",
    "ax.set_xlabel(\"Date\")\n",
    "ax.legend()\n",
    "\n",
    "plt.xticks(rotation='vertical')"
   ]
  },
  {
   "cell_type": "markdown",
   "metadata": {},
   "source": [
    "#### Business observations from graph above\n",
    "While all three events exhibit a simultaneous downwards trend *overall*, there are interesting exceptions on certain dates. For instance, see the dip in 'searches' right before 04-29; at the same time there was a small peak in 'plays'! Maybe this is not important in building a churn-prediction system, but it's worth investigating if one is to understand better the business performance of this streaming platform!\n",
    "\n",
    "Concerning the significant dips in 'play': could there be a problem with the music player, or could there be load balancing issues for streaming? Given the limited data, we cannot investigate further; but those are the questions I would ask if I were at work.\n",
    "\n",
    "All in all, once the reasons for churning are identified and the losses quantified, we can make informed decisions to mitigate further churning (e.g. by buying the right amount of hardware, not too much and not too little)"
   ]
  },
  {
   "cell_type": "markdown",
   "metadata": {},
   "source": [
    "## Onwards to Model Building!\n",
    "### Define Label (Churn / Not Churn)\n",
    "We need to define \"churning\" --- i.e. when a user is considered as \"inactive\". Since we only have 6 weeks of data, we will go with the simple approach of\n",
    "1. Model user acitivity on the first 4 weeks of data ('feature window')\n",
    "2. Define 'churn' as the lack of activity in the last 2 weeks ('label window')\n",
    "\n",
    "It is unacceptable to have a label window shorter than 2 weeks; after all, users may be preoccupied otherwise for a week or so, before returning to music streaming. But longer than a week? It is conceivable that they wouldn't come back. \n",
    "\n",
    "If there is sufficient data, we can actually *measure* the proportion of users who churned after two weeks of inactivity, and decide whether two weeks is a sufficiently long label window. (Definitely would try if this were to be a work project.)"
   ]
  },
  {
   "cell_type": "code",
   "execution_count": 16,
   "metadata": {},
   "outputs": [
    {
     "name": "stdout",
     "output_type": "stream",
     "text": [
      "+----------+----------+\n",
      "| min(date)| max(date)|\n",
      "+----------+----------+\n",
      "|2017-03-30|2017-05-12|\n",
      "+----------+----------+\n",
      "\n"
     ]
    }
   ],
   "source": [
    "# Verify the earliest and latest dates available\n",
    "df.agg(F.min('date'), F.max('date')).show()"
   ]
  },
  {
   "cell_type": "code",
   "execution_count": 17,
   "metadata": {},
   "outputs": [
    {
     "name": "stdout",
     "output_type": "stream",
     "text": [
      "label window: 2017-04-29 ~ 2017-05-12 days: 14\n",
      "feature window: 2017-03-30 ~ 2017-04-28 days: 30\n"
     ]
    }
   ],
   "source": [
    "import datetime\n",
    "from dateutil import parser\n",
    "\n",
    "label_window_size = 14\n",
    "label_window_end_date = parser.parse('2017-05-12').date()\n",
    "label_window_start_date = label_window_end_date - datetime.timedelta(label_window_size - 1)\n",
    "print('label window:',label_window_start_date,'~',label_window_end_date,'days:',label_window_size)\n",
    "\n",
    "feature_window_size = 30\n",
    "feature_window_end_date = label_window_start_date - datetime.timedelta(1)\n",
    "feature_window_start_date = feature_window_end_date  - datetime.timedelta(feature_window_size - 1)\n",
    "print('feature window:',feature_window_start_date,'~',feature_window_end_date,'days:',feature_window_size)"
   ]
  },
  {
   "cell_type": "code",
   "execution_count": 18,
   "metadata": {},
   "outputs": [],
   "source": [
    "# Collect all the uid's we will model; these are users with activity within the feature window\n",
    "df_model_uid = df.filter((F.col('date')>=feature_window_start_date) & (F.col('date')<=feature_window_end_date))\\\n",
    "                    .select('uid').distinct()\n",
    "\n",
    "# Did the above users churn in the label window? (churn/active: 1/0)\n",
    "df_active_uid_in_label_window = df.filter((F.col('date')>=label_window_start_date) & (F.col('date')<=label_window_end_date))\\\n",
    "                            .select('uid').distinct().withColumn('label',F.lit(0))"
   ]
  },
  {
   "cell_type": "code",
   "execution_count": 19,
   "metadata": {},
   "outputs": [],
   "source": [
    "# Prepare label data via SQL-joins (churn label=1; active label=0)\n",
    "# Whichever user not in df_model_uid is considered churned\n",
    "df_label = df_model_uid.join(df_active_uid_in_label_window, on=['uid'], how='left')\n",
    "df_label = df_label.fillna(1)"
   ]
  },
  {
   "cell_type": "code",
   "execution_count": 20,
   "metadata": {},
   "outputs": [
    {
     "name": "stdout",
     "output_type": "stream",
     "text": [
      "+-----+-----+\n",
      "|label|count|\n",
      "+-----+-----+\n",
      "|    1|39566|\n",
      "|    0|23511|\n",
      "+-----+-----+\n",
      "\n"
     ]
    }
   ],
   "source": [
    "# Finally, print distribution of 0/1 labels\n",
    "df_label.groupBy('label').count().show()"
   ]
  },
  {
   "cell_type": "markdown",
   "metadata": {},
   "source": [
    "### Feature generation\n",
    "Here we create the features that describe user activity prior to churning (or not). "
   ]
  },
  {
   "cell_type": "code",
   "execution_count": 21,
   "metadata": {},
   "outputs": [],
   "source": [
    "# Collect acitivty data in the feature window\n",
    "df_feature_window = df.filter((F.col('date')>=feature_window_start_date) & (F.col('date')<=feature_window_end_date))"
   ]
  },
  {
   "cell_type": "code",
   "execution_count": 22,
   "metadata": {},
   "outputs": [],
   "source": [
    "'''\n",
    "    Python list to capture all generated features\n",
    "'''\n",
    "df_feature_activity = []\n",
    "df_feature_profile = []"
   ]
  },
  {
   "cell_type": "markdown",
   "metadata": {},
   "source": [
    "#### Frequency features\n",
    "The number of plays, downloads, and searches in the feature window"
   ]
  },
  {
   "cell_type": "code",
   "execution_count": 23,
   "metadata": {},
   "outputs": [],
   "source": [
    "# Define a function to generate frequency features for a list of time windows\n",
    "# using when().otherwise(), and list comprehension trick!\n",
    "\n",
    "def frequency_feature_generation_time_windows(df, event, time_window_list, snapshot_date):\n",
    "    \"\"\"\n",
    "        Generate frequency features for one event type and a list of time windows\n",
    "    \n",
    "        event: string 'S' 'P' or 'D'\n",
    "        time_window_list: list of integers; e.g. [1, 4, 7] refers to 1, 4, 7 days before and including snapshot_date\n",
    "        snapshot_date: Python date type\n",
    "    \"\"\"\n",
    "    \n",
    "    df_feature = df \\\n",
    "        .filter(F.col('event')==event) \\\n",
    "        .groupBy('uid') \\\n",
    "        .agg(*[F.sum(F.when((F.col('date')>=snapshot_date-datetime.timedelta(time_window-1)) & (F.col('date')<=snapshot_date),1).otherwise(0)).alias('freq_'+event+'_last_'+str(time_window)) \\\n",
    "                for time_window in time_window_list]\n",
    "            )# *[] opens list and make them comma separated\n",
    "    return df_feature"
   ]
  },
  {
   "cell_type": "code",
   "execution_count": 24,
   "metadata": {},
   "outputs": [
    {
     "name": "stdout",
     "output_type": "stream",
     "text": [
      "+---------+-------------+-------------+-------------+--------------+\n",
      "|      uid|freq_P_last_1|freq_P_last_3|freq_P_last_5|freq_P_last_30|\n",
      "+---------+-------------+-------------+-------------+--------------+\n",
      "|169251556|            0|            8|            8|            53|\n",
      "+---------+-------------+-------------+-------------+--------------+\n",
      "\n",
      "45\n"
     ]
    }
   ],
   "source": [
    "''' \n",
    "    As a test: generate feature for 'P' event\n",
    "    - Verified manually that for a user, that the feature is correct and valid\n",
    "    - uid choice: max in play data (copied from cell above)\n",
    "'''\n",
    "\n",
    "event = 'P'\n",
    "snapshot_date = feature_window_end_date\n",
    "tmp_df = frequency_feature_generation_time_windows(df_feature_window, event, [1,3,5,30], snapshot_date)\n",
    "tmp_df.persist()\n",
    "\n",
    "# Print the newly generated feature for uid==168551430\n",
    "# Number of plays: 179, for dates at least 5 days before feature_window_end_date\n",
    "tmp_df.filter(F.col('uid')==169251556).show()\n",
    "\n",
    "# Print the number of plays for uid==168551430 during the whole feature window; 53-8=45 indeed!\n",
    "print( df_feature_window.filter( (F.col('uid')==169251556) & (F.col('event')=='P') \\\n",
    "                         & (F.col('date') <= (snapshot_date-datetime.timedelta(4))) ).count()\n",
    "     )\n",
    "\n",
    "# Delete the temporally generated DF\n",
    "del tmp_df"
   ]
  },
  {
   "cell_type": "code",
   "execution_count": 25,
   "metadata": {},
   "outputs": [],
   "source": [
    "# generate frequency features for all event_list, time_window_list\n",
    "event_list = ['P','D','S']\n",
    "time_window_list = [1,3,7,14,30]\n",
    "snapshot_date = feature_window_end_date\n",
    "\n",
    "for event in event_list:\n",
    "    df_feature_activity.append(frequency_feature_generation_time_windows(df_feature_window,event,time_window_list,snapshot_date))"
   ]
  },
  {
   "cell_type": "code",
   "execution_count": 26,
   "metadata": {},
   "outputs": [
    {
     "data": {
      "text/plain": [
       "[DataFrame[uid: int, freq_P_last_1: bigint, freq_P_last_3: bigint, freq_P_last_7: bigint, freq_P_last_14: bigint, freq_P_last_30: bigint],\n",
       " DataFrame[uid: int, freq_D_last_1: bigint, freq_D_last_3: bigint, freq_D_last_7: bigint, freq_D_last_14: bigint, freq_D_last_30: bigint],\n",
       " DataFrame[uid: int, freq_S_last_1: bigint, freq_S_last_3: bigint, freq_S_last_7: bigint, freq_S_last_14: bigint, freq_S_last_30: bigint]]"
      ]
     },
     "execution_count": 26,
     "metadata": {},
     "output_type": "execute_result"
    }
   ],
   "source": [
    "df_feature_activity"
   ]
  },
  {
   "cell_type": "markdown",
   "metadata": {},
   "source": [
    "#### Recency features\n",
    "The number of days between the last event in the feature window, and `label_window_start_date`"
   ]
  },
  {
   "cell_type": "code",
   "execution_count": 27,
   "metadata": {},
   "outputs": [],
   "source": [
    "def recency_feature_generation_time_windows(df, event, snapshot_date):\n",
    "    \"\"\"\n",
    "        Generate recency features for one event type and a list of time windows\n",
    "                \n",
    "        LOGIC: convert to UNIX timestamp, calculate time difference in secs, then divide by 86400 -> days\n",
    "    \n",
    "        df: Spark DataFrame containing data from feature window\n",
    "        event: string 'S' 'P' or 'D'\n",
    "        time_window_list: list of integers; e.g. [1, 4, 7] refers to 1, 4, 7 days before and including snapshot_date\n",
    "        snapshot_date: Python date type\n",
    "    \"\"\"\n",
    "    \n",
    "    from time import mktime\n",
    "        \n",
    "    df_feature = df \\\n",
    "        .filter(F.col('event') == event) \\\n",
    "        .groupBy('uid') \\\n",
    "        .agg(( (mktime(snapshot_date.timetuple()) - F.unix_timestamp(F.max('date')))/86400 ).alias('recency_'+event))\n",
    "    \n",
    "    return df_feature"
   ]
  },
  {
   "cell_type": "code",
   "execution_count": 28,
   "metadata": {},
   "outputs": [
    {
     "name": "stdout",
     "output_type": "stream",
     "text": [
      "+---------+---------+\n",
      "|      uid|recency_S|\n",
      "+---------+---------+\n",
      "|169246553|      4.0|\n",
      "+---------+---------+\n",
      "\n",
      "+----------+\n",
      "| max(date)|\n",
      "+----------+\n",
      "|2017-04-25|\n",
      "+----------+\n",
      "\n"
     ]
    }
   ],
   "source": [
    "''' \n",
    "    As a test: generate feature for 'S' event\n",
    "    - Verified manually that for a user, that the feature is correct and valid\n",
    "    - uid choice: max in play data (copied from cell above)\n",
    "'''\n",
    "\n",
    "event = 'S'\n",
    "snapshot_date = label_window_start_date\n",
    "tmp_df = recency_feature_generation_time_windows(df_feature_window,event,snapshot_date)\n",
    "\n",
    "# Print the newly generated feature for uid==169251556\n",
    "tmp_df.filter(F.col('uid')==169246553).show()\n",
    "\n",
    "# Print date of the latest search in feature window, for uid==169246553\n",
    "# It is April 25 --- 4 days from label_window_start_date (April 29) indeed!\n",
    "df_feature_window.filter( (F.col('uid')==169246553) \\\n",
    "                         & (F.col('event')=='S') \\\n",
    "                         & (F.col('date') <= snapshot_date)\n",
    "                        ).agg(F.max('date')).show()\n",
    "\n",
    "# Delete the temporally generated DF\n",
    "del tmp_df"
   ]
  },
  {
   "cell_type": "code",
   "execution_count": 29,
   "metadata": {},
   "outputs": [],
   "source": [
    "# generate frequency features for all event_list, time_window_list\n",
    "snapshot_date = label_window_start_date\n",
    "event_list = ['P','D','S']\n",
    "for event in event_list:\n",
    "    df_feature_activity.append(recency_feature_generation_time_windows(df_feature_window,event,snapshot_date))"
   ]
  },
  {
   "cell_type": "code",
   "execution_count": 30,
   "metadata": {},
   "outputs": [
    {
     "data": {
      "text/plain": [
       "[DataFrame[uid: int, freq_P_last_1: bigint, freq_P_last_3: bigint, freq_P_last_7: bigint, freq_P_last_14: bigint, freq_P_last_30: bigint],\n",
       " DataFrame[uid: int, freq_D_last_1: bigint, freq_D_last_3: bigint, freq_D_last_7: bigint, freq_D_last_14: bigint, freq_D_last_30: bigint],\n",
       " DataFrame[uid: int, freq_S_last_1: bigint, freq_S_last_3: bigint, freq_S_last_7: bigint, freq_S_last_14: bigint, freq_S_last_30: bigint],\n",
       " DataFrame[uid: int, recency_P: double],\n",
       " DataFrame[uid: int, recency_D: double],\n",
       " DataFrame[uid: int, recency_S: double]]"
      ]
     },
     "execution_count": 30,
     "metadata": {},
     "output_type": "execute_result"
    }
   ],
   "source": [
    "df_feature_activity"
   ]
  },
  {
   "cell_type": "markdown",
   "metadata": {},
   "source": [
    "### Profile features\n",
    "Given the available data, 'profile' refers to the device (iOS/android) that generated logged events"
   ]
  },
  {
   "cell_type": "code",
   "execution_count": 31,
   "metadata": {},
   "outputs": [
    {
     "name": "stdout",
     "output_type": "stream",
     "text": [
      "+---------+------+---------+----------+---------+-----------+\n",
      "|      uid|device|  song_id|      date|play_time|song_length|\n",
      "+---------+------+---------+----------+---------+-----------+\n",
      "|168540455|    ar| 298250.0|2017-03-30|    189.0|      190.0|\n",
      "|168550728|    ar| 285233.0|2017-03-30|    282.0|      282.0|\n",
      "|168551524|    ar|6635279.0|2017-03-30|      1.0|      231.0|\n",
      "|168543348|    ar|      0.0|2017-03-30|     27.0|       63.0|\n",
      "|168550948|    ar| 277286.0|2017-03-30|    254.0|      254.0|\n",
      "+---------+------+---------+----------+---------+-----------+\n",
      "only showing top 5 rows\n",
      "\n"
     ]
    }
   ],
   "source": [
    "# Load play records\n",
    "df_play = spark.read.csv('../data/play_ds_cleaned.csv', header=True)\n",
    "df_play.show(5)"
   ]
  },
  {
   "cell_type": "code",
   "execution_count": 32,
   "metadata": {},
   "outputs": [],
   "source": [
    "# Filter down to obtain data in feature window\n",
    "# Then, extract unique PAIRS of uid,device\n",
    "df_play_feature_window = df_play.filter((F.col('date')>=feature_window_start_date) & (F.col('date')<=feature_window_end_date))\n",
    "df_device_tmp = df_play_feature_window.select('uid','device').distinct()"
   ]
  },
  {
   "cell_type": "code",
   "execution_count": 33,
   "metadata": {},
   "outputs": [
    {
     "name": "stdout",
     "output_type": "stream",
     "text": [
      "+------+-----+\n",
      "|device|count|\n",
      "+------+-----+\n",
      "|    mc|    1|\n",
      "|    ar|54925|\n",
      "|    ip| 7965|\n",
      "+------+-----+\n",
      "\n"
     ]
    }
   ],
   "source": [
    "# Print the number of instances per device type\n",
    "df_device_tmp.groupBy('device').count().show()"
   ]
  },
  {
   "cell_type": "code",
   "execution_count": 34,
   "metadata": {},
   "outputs": [
    {
     "name": "stdout",
     "output_type": "stream",
     "text": [
      "Unique number of users:  65417\n",
      "Unique number of user/device pairs:  62891\n"
     ]
    }
   ],
   "source": [
    "# There ARE users who accessed the service with >1 devices\n",
    "# df.select('uid').distinct().count() is 65417\n",
    "print(\"Unique number of users: \", 65417)\n",
    "print(\"Unique number of user/device pairs: \", df_device_tmp.distinct().count())"
   ]
  },
  {
   "cell_type": "code",
   "execution_count": 35,
   "metadata": {},
   "outputs": [
    {
     "data": {
      "text/plain": [
       "13"
      ]
     },
     "execution_count": 35,
     "metadata": {},
     "output_type": "execute_result"
    }
   ],
   "source": [
    "# There aren't actually THAT many users who have played songs on multiple devices though!\n",
    "# Explanaton of discrepancy: df_profile_tmp is built from play data only\n",
    "# ...whereas df_label is built from the entire event set\n",
    "\n",
    "multi_device_user = df_device_tmp.groupby('uid').count().filter(F.col('count') > 1)\n",
    "multi_device_user.count()"
   ]
  },
  {
   "cell_type": "code",
   "execution_count": 36,
   "metadata": {},
   "outputs": [
    {
     "name": "stdout",
     "output_type": "stream",
     "text": [
      "+-----------+-----+\n",
      "|device_type|count|\n",
      "+-----------+-----+\n",
      "|          1| 7965|\n",
      "|          2|54926|\n",
      "+-----------+-----+\n",
      "\n"
     ]
    }
   ],
   "source": [
    "# Encode device types into numbers. iOS == 1, android == 2\n",
    "# There is a single instance of device 'mc', which we arbitarily grouped with 2\n",
    "\n",
    "df_device_tmp = df_device_tmp.withColumn('device_type', \\\n",
    "                                           F.when(F.col('device')=='ip',1).otherwise(2))\n",
    "\n",
    "# Should match with count from a few cells above\n",
    "df_device_tmp.groupBy('device_type').count().show()"
   ]
  },
  {
   "cell_type": "code",
   "execution_count": 37,
   "metadata": {},
   "outputs": [],
   "source": [
    "# Build Spark DataFrame that matches label (from df_label) with device\n",
    "# Only keep those uid's that have a label; hence left join\n",
    "\n",
    "df_device = df_label.select('uid').join(df_device_tmp.select('uid','device_type'),on='uid',how='left')"
   ]
  },
  {
   "cell_type": "code",
   "execution_count": 38,
   "metadata": {},
   "outputs": [],
   "source": [
    "# See above: null values in df_profile because of mismatches in uid\n",
    "# Fill as '3', stand-in for 'unknown'\n",
    "df_device = df_device.fillna({'device_type':3})"
   ]
  },
  {
   "cell_type": "code",
   "execution_count": 39,
   "metadata": {},
   "outputs": [
    {
     "name": "stdout",
     "output_type": "stream",
     "text": [
      "+---------+-----+\n",
      "|      uid|count|\n",
      "+---------+-----+\n",
      "|168653359|    2|\n",
      "|168165762|    2|\n",
      "|169089329|    2|\n",
      "|168576848|    2|\n",
      "|  3647844|    2|\n",
      "|168576854|    2|\n",
      "|168577159|    2|\n",
      "|168653255|    2|\n",
      "|168651933|    2|\n",
      "|168652896|    2|\n",
      "|168653231|    2|\n",
      "|168577178|    2|\n",
      "|168652781|    2|\n",
      "+---------+-----+\n",
      "\n",
      "+---------+-----------+\n",
      "|      uid|device_type|\n",
      "+---------+-----------+\n",
      "|168165762|          2|\n",
      "|168165762|          1|\n",
      "+---------+-----------+\n",
      "\n"
     ]
    }
   ],
   "source": [
    "# Confirm that df_profile still records the multiple devices owned by certain users\n",
    "df_device.groupBy('uid').count().filter(F.col('count') > 1).show()\n",
    "\n",
    "# Print for a particular user just displayed\n",
    "df_device.filter(F.col('uid')==168165762).show()"
   ]
  },
  {
   "cell_type": "code",
   "execution_count": 40,
   "metadata": {},
   "outputs": [],
   "source": [
    "# Finally, append device info to feature Python list\n",
    "df_feature_profile.append(df_device)"
   ]
  },
  {
   "cell_type": "markdown",
   "metadata": {},
   "source": [
    "### Total play time\n",
    "The time (secs) that users have spent playing songs, in various time windows"
   ]
  },
  {
   "cell_type": "code",
   "execution_count": 41,
   "metadata": {},
   "outputs": [],
   "source": [
    "# Cast to date type, for convenient windowing\n",
    "df_play = df_play.withColumn('date', F.col('date').cast('date'))\n",
    "\n",
    "# Cast to float type, as intended (e.g. see notebook 3.5)\n",
    "df_play = df_play.withColumn('play_time', F.col('play_time').cast('float'))"
   ]
  },
  {
   "cell_type": "code",
   "execution_count": 42,
   "metadata": {},
   "outputs": [
    {
     "name": "stdout",
     "output_type": "stream",
     "text": [
      "Number of df_play entries with negative play_time:  0\n"
     ]
    }
   ],
   "source": [
    "# Can you generate total song play time features (using play_ds data) for different time window\n",
    "# using play data (need to clean play time first, play time may be negative in data)\n",
    "print(\"Number of df_play entries with negative play_time: \", \\\n",
    "      df_play.select('play_time').filter(F.col('play_time') < 0).count())"
   ]
  },
  {
   "cell_type": "code",
   "execution_count": 43,
   "metadata": {},
   "outputs": [],
   "source": [
    "# Fix negative play_time by setting to 0 --- but none found\n",
    "# i.e. Assume it's a system glitch --- songs weren't actually played\n",
    "# df_play_tmp = df_play.withColumn('play_time', \\\n",
    "#                                  F.when(df_play['play_time']<0, 0).otherwise(df_play['play_time']))\n"
   ]
  },
  {
   "cell_type": "code",
   "execution_count": 44,
   "metadata": {},
   "outputs": [],
   "source": [
    "df_play_tmp = df_play"
   ]
  },
  {
   "cell_type": "code",
   "execution_count": 45,
   "metadata": {},
   "outputs": [],
   "source": [
    "def play_time_feature_generation_time_windows(df, time_window_list, snapshot_date):\n",
    "    \"\"\"\n",
    "        Compute the total play time (secs) within a time window, before and including the snapshot date\n",
    "        \n",
    "        df: Spark DataFrame containing play data *only*\n",
    "        time_window_list: list of integers; e.g. [1, 4, 7] refers to 1, 4, 7 days before and including snapshot_date\n",
    "        snapshot_date: Python date type\n",
    "    \"\"\"\n",
    "    \n",
    "    df_feature = df \\\n",
    "        .groupBy('uid') \\\n",
    "        .agg(*[F.sum( \\\n",
    "                     F.when( (F.col('date') >= snapshot_date-datetime.timedelta(time_window-1)) & (F.col('date')<=snapshot_date), F.col('play_time')).otherwise(0))\\\n",
    "               .alias('play_time_last_'+str(time_window)) for time_window in time_window_list])\n",
    "    \n",
    "    return df_feature"
   ]
  },
  {
   "cell_type": "code",
   "execution_count": 46,
   "metadata": {},
   "outputs": [
    {
     "data": {
      "text/plain": [
       "DataFrame[uid: string, device: string, song_id: string, date: date, play_time: float, song_length: string]"
      ]
     },
     "execution_count": 46,
     "metadata": {},
     "output_type": "execute_result"
    }
   ],
   "source": [
    "df_play_tmp"
   ]
  },
  {
   "cell_type": "code",
   "execution_count": 47,
   "metadata": {},
   "outputs": [
    {
     "name": "stdout",
     "output_type": "stream",
     "text": [
      "+--------------+\n",
      "|max(play_time)|\n",
      "+--------------+\n",
      "|       65500.0|\n",
      "+--------------+\n",
      "\n"
     ]
    }
   ],
   "source": [
    "df_play_tmp.agg(F.max('play_time')).show()"
   ]
  },
  {
   "cell_type": "code",
   "execution_count": 48,
   "metadata": {},
   "outputs": [],
   "source": [
    "# Generate play time features and append df_feature_activity\n",
    "time_window_list = [1,3,7,14,30]\n",
    "snapshot_date = feature_window_end_date\n",
    "df_feature_activity.append(play_time_feature_generation_time_windows(df_play_tmp, time_window_list, snapshot_date))"
   ]
  },
  {
   "cell_type": "markdown",
   "metadata": {},
   "source": [
    "### Fancier frequency features"
   ]
  },
  {
   "cell_type": "code",
   "execution_count": 49,
   "metadata": {},
   "outputs": [],
   "source": [
    "# Can you generate counts of songs play 80% of their song length (using play_ds data) for different time window\n",
    "# using play data (need to clean play time and song length first, \n",
    "# play time may be negative in data, song length may be zeros)"
   ]
  },
  {
   "cell_type": "markdown",
   "metadata": {},
   "source": [
    "## Form Training Matrix and Save to File"
   ]
  },
  {
   "cell_type": "code",
   "execution_count": 50,
   "metadata": {},
   "outputs": [],
   "source": [
    "def join_feature_data(df_master,df_feature_list):\n",
    "    for df_feature in df_feature_list:\n",
    "        df_master = df_master.join(df_feature,on='uid',how='left')\n",
    "        df_master.persist() # uncomment if there are too many DFs to joins\n",
    "    return df_master"
   ]
  },
  {
   "cell_type": "code",
   "execution_count": 51,
   "metadata": {},
   "outputs": [],
   "source": [
    "# join all behavior features\n",
    "df_model_final = join_feature_data(df_label, df_feature_activity)"
   ]
  },
  {
   "cell_type": "code",
   "execution_count": 52,
   "metadata": {},
   "outputs": [
    {
     "data": {
      "text/plain": [
       "['uid',\n",
       " 'label',\n",
       " 'freq_P_last_1',\n",
       " 'freq_P_last_3',\n",
       " 'freq_P_last_7',\n",
       " 'freq_P_last_14',\n",
       " 'freq_P_last_30',\n",
       " 'freq_D_last_1',\n",
       " 'freq_D_last_3',\n",
       " 'freq_D_last_7',\n",
       " 'freq_D_last_14',\n",
       " 'freq_D_last_30',\n",
       " 'freq_S_last_1',\n",
       " 'freq_S_last_3',\n",
       " 'freq_S_last_7',\n",
       " 'freq_S_last_14',\n",
       " 'freq_S_last_30',\n",
       " 'recency_P',\n",
       " 'recency_D',\n",
       " 'recency_S',\n",
       " 'play_time_last_1',\n",
       " 'play_time_last_3',\n",
       " 'play_time_last_7',\n",
       " 'play_time_last_14',\n",
       " 'play_time_last_30']"
      ]
     },
     "execution_count": 52,
     "metadata": {},
     "output_type": "execute_result"
    }
   ],
   "source": [
    "df_model_final.columns"
   ]
  },
  {
   "cell_type": "code",
   "execution_count": 53,
   "metadata": {},
   "outputs": [],
   "source": [
    "# join all profile features\n",
    "df_model_final = join_feature_data(df_model_final, df_feature_profile)"
   ]
  },
  {
   "cell_type": "code",
   "execution_count": 54,
   "metadata": {},
   "outputs": [],
   "source": [
    "df_model_final.fillna(0).toPandas().to_csv('../data/df_model_final.csv',index=False)"
   ]
  }
 ],
 "metadata": {
  "kernelspec": {
   "display_name": "Python 3",
   "language": "python",
   "name": "python3"
  },
  "language_info": {
   "codemirror_mode": {
    "name": "ipython",
    "version": 3
   },
   "file_extension": ".py",
   "mimetype": "text/x-python",
   "name": "python",
   "nbconvert_exporter": "python",
   "pygments_lexer": "ipython3",
   "version": "3.7.2"
  }
 },
 "nbformat": 4,
 "nbformat_minor": 2
}
