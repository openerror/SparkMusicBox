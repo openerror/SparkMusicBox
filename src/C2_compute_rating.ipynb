{
 "cells": [
  {
   "cell_type": "markdown",
   "metadata": {},
   "source": [
    "# Build Recommendation System (sklearn)\n",
    "\n",
    "In `B1_preprocess.ipynb`, I have distilled several features from raw data, which I will now utilize for song recommendations. Due to downsampling, these features are small enough to fit onto RAM / a single disk. Therefore it is\n",
    "possible to come up with user-music ratings using single-machine toolkits, e.g. Pandas. That's what I am going to do now.\n",
    "\n",
    "As a reminder, I first retained only the last 30 days of data. Then for each (`uid, song_id`) pair, I computed the following features:\n",
    "- `p_count`, the total number of plays, during these 30 days\n",
    "- `d_count`, the total number of downloads, ditto\n",
    "- `ps_ratio`, the **mean** ratio of play_time and song_length, ditto\n",
    "\n",
    "In other words, the user-music ratings are *implicit*, in the sense that they are not explicit, deliberate ratings of preference provided by users."
   ]
  },
  {
   "cell_type": "markdown",
   "metadata": {},
   "source": [
    "## Design Strategy\n",
    "\n",
    "### Computing the Implicit Rating\n",
    "The formula we will use is: `rating` = Log10{ 0.4 (`ps_ratio` $\\times$ `p_count`) + 0.6 `d_count` }.\n",
    "\n",
    "In other words, a weighted average. I am giving `d_count` a higher weight, assuming that users must be really interested for them to bother downloading songs. Also, I am weighting `p_count` with `ps_ratio`, because an incomplete play (probably) reflects a lower level of interest.\n",
    "\n",
    "Last but not least, the log10 serves to compress the scale of `rating`.\n",
    "\n",
    "### Algorithm for Making Recommendations\n",
    "- Spark ALS via Google Cloud Platform. This is the only practical choice; after experimenting I concluded that there simply isn't enough RAM on my 2015 MBP."
   ]
  },
  {
   "cell_type": "markdown",
   "metadata": {},
   "source": [
    "## Load and examine data"
   ]
  },
  {
   "cell_type": "code",
   "execution_count": 1,
   "metadata": {},
   "outputs": [],
   "source": [
    "import pandas as pd\n",
    "import numpy as np\n",
    "import matplotlib.pyplot as plt\n",
    "\n",
    "from scipy.sparse import lil_matrix, csr_matrix\n",
    "\n",
    "np.random.seed(10)\n",
    "\n",
    "plt.style.use('ggplot')"
   ]
  },
  {
   "cell_type": "code",
   "execution_count": 2,
   "metadata": {},
   "outputs": [],
   "source": [
    "rec_features = pd.read_csv(\"../data/rec/rec_features.csv\")"
   ]
  },
  {
   "cell_type": "code",
   "execution_count": 3,
   "metadata": {},
   "outputs": [
    {
     "data": {
      "text/html": [
       "<div>\n",
       "<style scoped>\n",
       "    .dataframe tbody tr th:only-of-type {\n",
       "        vertical-align: middle;\n",
       "    }\n",
       "\n",
       "    .dataframe tbody tr th {\n",
       "        vertical-align: top;\n",
       "    }\n",
       "\n",
       "    .dataframe thead th {\n",
       "        text-align: right;\n",
       "    }\n",
       "</style>\n",
       "<table border=\"1\" class=\"dataframe\">\n",
       "  <thead>\n",
       "    <tr style=\"text-align: right;\">\n",
       "      <th></th>\n",
       "      <th>uid</th>\n",
       "      <th>song_id</th>\n",
       "      <th>p_count</th>\n",
       "      <th>d_count</th>\n",
       "      <th>ps_ratio</th>\n",
       "    </tr>\n",
       "  </thead>\n",
       "  <tbody>\n",
       "    <tr>\n",
       "      <th>0</th>\n",
       "      <td>12333</td>\n",
       "      <td>15249349</td>\n",
       "      <td>1</td>\n",
       "      <td>0</td>\n",
       "      <td>0.746504</td>\n",
       "    </tr>\n",
       "    <tr>\n",
       "      <th>1</th>\n",
       "      <td>1164092</td>\n",
       "      <td>4594934</td>\n",
       "      <td>1</td>\n",
       "      <td>0</td>\n",
       "      <td>0.380673</td>\n",
       "    </tr>\n",
       "    <tr>\n",
       "      <th>2</th>\n",
       "      <td>1863042</td>\n",
       "      <td>4090645</td>\n",
       "      <td>2</td>\n",
       "      <td>0</td>\n",
       "      <td>0.902413</td>\n",
       "    </tr>\n",
       "    <tr>\n",
       "      <th>3</th>\n",
       "      <td>1863042</td>\n",
       "      <td>7048351</td>\n",
       "      <td>1</td>\n",
       "      <td>0</td>\n",
       "      <td>1.000000</td>\n",
       "    </tr>\n",
       "    <tr>\n",
       "      <th>4</th>\n",
       "      <td>3629720</td>\n",
       "      <td>4681151</td>\n",
       "      <td>1</td>\n",
       "      <td>0</td>\n",
       "      <td>0.996810</td>\n",
       "    </tr>\n",
       "  </tbody>\n",
       "</table>\n",
       "</div>"
      ],
      "text/plain": [
       "       uid   song_id  p_count  d_count  ps_ratio\n",
       "0    12333  15249349        1        0  0.746504\n",
       "1  1164092   4594934        1        0  0.380673\n",
       "2  1863042   4090645        2        0  0.902413\n",
       "3  1863042   7048351        1        0  1.000000\n",
       "4  3629720   4681151        1        0  0.996810"
      ]
     },
     "execution_count": 3,
     "metadata": {},
     "output_type": "execute_result"
    }
   ],
   "source": [
    "# Examine data\n",
    "rec_features.head(5)"
   ]
  },
  {
   "cell_type": "code",
   "execution_count": 4,
   "metadata": {},
   "outputs": [
    {
     "name": "stdout",
     "output_type": "stream",
     "text": [
      "<class 'pandas.core.frame.DataFrame'>\n",
      "RangeIndex: 1777079 entries, 0 to 1777078\n",
      "Data columns (total 5 columns):\n",
      "uid         int64\n",
      "song_id     int64\n",
      "p_count     int64\n",
      "d_count     int64\n",
      "ps_ratio    float64\n",
      "dtypes: float64(1), int64(4)\n",
      "memory usage: 67.8 MB\n"
     ]
    }
   ],
   "source": [
    "# Examine number of rows; make sure no NAs\n",
    "rec_features.info()"
   ]
  },
  {
   "cell_type": "code",
   "execution_count": 5,
   "metadata": {},
   "outputs": [
    {
     "data": {
      "text/html": [
       "<div>\n",
       "<style scoped>\n",
       "    .dataframe tbody tr th:only-of-type {\n",
       "        vertical-align: middle;\n",
       "    }\n",
       "\n",
       "    .dataframe tbody tr th {\n",
       "        vertical-align: top;\n",
       "    }\n",
       "\n",
       "    .dataframe thead th {\n",
       "        text-align: right;\n",
       "    }\n",
       "</style>\n",
       "<table border=\"1\" class=\"dataframe\">\n",
       "  <thead>\n",
       "    <tr style=\"text-align: right;\">\n",
       "      <th></th>\n",
       "      <th>uid</th>\n",
       "      <th>song_id</th>\n",
       "      <th>p_count</th>\n",
       "      <th>d_count</th>\n",
       "      <th>ps_ratio</th>\n",
       "    </tr>\n",
       "  </thead>\n",
       "  <tbody>\n",
       "    <tr>\n",
       "      <th>count</th>\n",
       "      <td>1.777079e+06</td>\n",
       "      <td>1.777079e+06</td>\n",
       "      <td>1.777079e+06</td>\n",
       "      <td>1.777079e+06</td>\n",
       "      <td>1.777079e+06</td>\n",
       "    </tr>\n",
       "    <tr>\n",
       "      <th>mean</th>\n",
       "      <td>1.664832e+08</td>\n",
       "      <td>6.150307e+06</td>\n",
       "      <td>3.179120e+00</td>\n",
       "      <td>8.035602e-02</td>\n",
       "      <td>6.560078e-01</td>\n",
       "    </tr>\n",
       "    <tr>\n",
       "      <th>std</th>\n",
       "      <td>1.419348e+07</td>\n",
       "      <td>1.249561e+07</td>\n",
       "      <td>1.060321e+01</td>\n",
       "      <td>3.016566e-01</td>\n",
       "      <td>3.637047e-01</td>\n",
       "    </tr>\n",
       "    <tr>\n",
       "      <th>min</th>\n",
       "      <td>1.233300e+04</td>\n",
       "      <td>-1.000000e+00</td>\n",
       "      <td>1.000000e+00</td>\n",
       "      <td>0.000000e+00</td>\n",
       "      <td>2.100840e-04</td>\n",
       "    </tr>\n",
       "    <tr>\n",
       "      <th>25%</th>\n",
       "      <td>1.679312e+08</td>\n",
       "      <td>7.085280e+05</td>\n",
       "      <td>1.000000e+00</td>\n",
       "      <td>0.000000e+00</td>\n",
       "      <td>3.262397e-01</td>\n",
       "    </tr>\n",
       "    <tr>\n",
       "      <th>50%</th>\n",
       "      <td>1.683125e+08</td>\n",
       "      <td>4.278162e+06</td>\n",
       "      <td>1.000000e+00</td>\n",
       "      <td>0.000000e+00</td>\n",
       "      <td>7.995213e-01</td>\n",
       "    </tr>\n",
       "    <tr>\n",
       "      <th>75%</th>\n",
       "      <td>1.686806e+08</td>\n",
       "      <td>6.989211e+06</td>\n",
       "      <td>3.000000e+00</td>\n",
       "      <td>0.000000e+00</td>\n",
       "      <td>9.970958e-01</td>\n",
       "    </tr>\n",
       "    <tr>\n",
       "      <th>max</th>\n",
       "      <td>1.692516e+08</td>\n",
       "      <td>2.147484e+09</td>\n",
       "      <td>1.709000e+03</td>\n",
       "      <td>1.300000e+01</td>\n",
       "      <td>1.000000e+00</td>\n",
       "    </tr>\n",
       "  </tbody>\n",
       "</table>\n",
       "</div>"
      ],
      "text/plain": [
       "                uid       song_id       p_count       d_count      ps_ratio\n",
       "count  1.777079e+06  1.777079e+06  1.777079e+06  1.777079e+06  1.777079e+06\n",
       "mean   1.664832e+08  6.150307e+06  3.179120e+00  8.035602e-02  6.560078e-01\n",
       "std    1.419348e+07  1.249561e+07  1.060321e+01  3.016566e-01  3.637047e-01\n",
       "min    1.233300e+04 -1.000000e+00  1.000000e+00  0.000000e+00  2.100840e-04\n",
       "25%    1.679312e+08  7.085280e+05  1.000000e+00  0.000000e+00  3.262397e-01\n",
       "50%    1.683125e+08  4.278162e+06  1.000000e+00  0.000000e+00  7.995213e-01\n",
       "75%    1.686806e+08  6.989211e+06  3.000000e+00  0.000000e+00  9.970958e-01\n",
       "max    1.692516e+08  2.147484e+09  1.709000e+03  1.300000e+01  1.000000e+00"
      ]
     },
     "execution_count": 5,
     "metadata": {},
     "output_type": "execute_result"
    }
   ],
   "source": [
    "# Examine distribution of each feature\n",
    "rec_features.describe()"
   ]
  },
  {
   "cell_type": "code",
   "execution_count": 6,
   "metadata": {},
   "outputs": [],
   "source": [
    "# Calculate utility score\n",
    "rec_features['rating'] = (0.6*rec_features[\"d_count\"] \\\n",
    "                         + 0.4*rec_features[\"p_count\"]*rec_features[\"ps_ratio\"])"
   ]
  },
  {
   "cell_type": "code",
   "execution_count": 18,
   "metadata": {},
   "outputs": [
    {
     "data": {
      "text/plain": [
       "count    1.777079e+06\n",
       "mean     9.929816e-01\n",
       "std      3.475023e+00\n",
       "min      8.403361e-05\n",
       "25%      1.865369e-01\n",
       "50%      4.000000e-01\n",
       "75%      8.000000e-01\n",
       "max      6.532739e+02\n",
       "Name: rating, dtype: float64"
      ]
     },
     "execution_count": 18,
     "metadata": {},
     "output_type": "execute_result"
    }
   ],
   "source": [
    "rec_features['rating'].describe()"
   ]
  },
  {
   "cell_type": "code",
   "execution_count": 7,
   "metadata": {},
   "outputs": [
    {
     "data": {
      "text/plain": [
       "Text(0.5, 1.0, 'Implicit Rating Distribution')"
      ]
     },
     "execution_count": 7,
     "metadata": {},
     "output_type": "execute_result"
    },
    {
     "data": {
      "image/png": "[encoded data removed]",
      "text/plain": [
       "<Figure size 432x288 with 1 Axes>"
      ]
     },
     "metadata": {
      "needs_background": "light"
     },
     "output_type": "display_data"
    }
   ],
   "source": [
    "# Plot distribution of utility score\n",
    "# Can see that without compression by log10, the rating would spread over two orders of magnitude\n",
    "\n",
    "rec_features['rating'].plot.hist(bins=1000)\n",
    "plt.xlim([0,20])\n",
    "plt.xlabel(\"Implicit Ratings\")\n",
    "plt.title(\"Implicit Rating Distribution\")"
   ]
  },
  {
   "cell_type": "markdown",
   "metadata": {},
   "source": [
    "## Avoid cold-starters; filter `uid`\n",
    "Collaborative filtering becomes unreliable for user who have only a few recorded events --- the so-called 'cold start' problem. Here we filter out users who have interacted with **less than 5 songs**. For those who are filtered out, a content-based recommendation system would be more suitable. \n",
    "\n",
    "But that's outside the scope of this project, because I'm barely given any song metadata!"
   ]
  },
  {
   "cell_type": "code",
   "execution_count": 8,
   "metadata": {},
   "outputs": [
    {
     "name": "stdout",
     "output_type": "stream",
     "text": [
      "Number of distinct uid's: 36158\n",
      "Number of cold-starter uid's: 7687\n"
     ]
    }
   ],
   "source": [
    "# First count number of observations under each user\n",
    "cold_starters = rec_features.groupby('uid').rating.agg(['count']).rename(columns={'count': 'count_by_uid'})\n",
    "print(f\"Number of distinct uid's: {len(cold_starters.index)}\")\n",
    "\n",
    "# Extract uids that have less than 5 observations\n",
    "cold_starters = cold_starters.index[ cold_starters.count_by_uid < 5 ]\n",
    "print(f\"Number of cold-starter uid's: {len(cold_starters)}\")"
   ]
  },
  {
   "cell_type": "code",
   "execution_count": 9,
   "metadata": {},
   "outputs": [
    {
     "data": {
      "text/plain": [
       "(1777079, 6)"
      ]
     },
     "execution_count": 9,
     "metadata": {},
     "output_type": "execute_result"
    }
   ],
   "source": [
    "rec_features.shape"
   ]
  },
  {
   "cell_type": "code",
   "execution_count": 10,
   "metadata": {},
   "outputs": [],
   "source": [
    "# Set uid to index and filter by index\n",
    "rec_features_warm = rec_features.set_index('uid')\n",
    "\n",
    "rec_features_warm = rec_features_warm.drop(index = cold_starters)\n",
    "rec_features_warm = rec_features_warm.reset_index()"
   ]
  },
  {
   "cell_type": "code",
   "execution_count": 11,
   "metadata": {},
   "outputs": [
    {
     "data": {
      "text/plain": [
       "(1761345, 6)"
      ]
     },
     "execution_count": 11,
     "metadata": {},
     "output_type": "execute_result"
    }
   ],
   "source": [
    "rec_features_warm.shape"
   ]
  },
  {
   "cell_type": "markdown",
   "metadata": {},
   "source": [
    "## Prepare for upload to cloud service\n",
    "Despite the downsampling, it is still impossible to decompose the utility matrix on my laptop. Therefore, I am invoking the power of Google Cloud Platform (GCP). Fortunately, Spark ALS on GCP does not require explicit construction of an utility matrix; instead, it takes the following three columns --- e.g. from an SQL DB --- and handles the rest.\n",
    "\n",
    "`user_id, item_id, rating`."
   ]
  },
  {
   "cell_type": "code",
   "execution_count": 12,
   "metadata": {},
   "outputs": [],
   "source": [
    "upload = rec_features_warm.loc[:, [\"uid\", 'song_id', \"rating\"]]\n",
    "upload.to_csv(\"../data/rec/upload.csv\", index=False, header=False)"
   ]
  },
  {
   "cell_type": "code",
   "execution_count": 13,
   "metadata": {},
   "outputs": [
    {
     "data": {
      "text/plain": [
       "count    1.761345e+06\n",
       "mean     9.849781e-01\n",
       "std      3.318444e+00\n",
       "min      8.403361e-05\n",
       "25%      1.847460e-01\n",
       "50%      4.000000e-01\n",
       "75%      8.000000e-01\n",
       "max      5.920201e+02\n",
       "Name: rating, dtype: float64"
      ]
     },
     "execution_count": 13,
     "metadata": {},
     "output_type": "execute_result"
    }
   ],
   "source": [
    "upload.rating.describe()"
   ]
  },
  {
   "cell_type": "markdown",
   "metadata": {},
   "source": [
    "#### Downsample for Testing Spark ALS"
   ]
  },
  {
   "cell_type": "code",
   "execution_count": 14,
   "metadata": {},
   "outputs": [],
   "source": [
    "# Randomly choose 10 users and retain only their data\n",
    "chosen_ones = np.random.choice(upload.uid, replace=False, size=10)"
   ]
  },
  {
   "cell_type": "code",
   "execution_count": 15,
   "metadata": {},
   "outputs": [],
   "source": [
    "upload_small = upload.loc[ upload['uid'].isin(chosen_ones), : ]"
   ]
  },
  {
   "cell_type": "code",
   "execution_count": 16,
   "metadata": {},
   "outputs": [
    {
     "data": {
      "text/html": [
       "<div>\n",
       "<style scoped>\n",
       "    .dataframe tbody tr th:only-of-type {\n",
       "        vertical-align: middle;\n",
       "    }\n",
       "\n",
       "    .dataframe tbody tr th {\n",
       "        vertical-align: top;\n",
       "    }\n",
       "\n",
       "    .dataframe thead th {\n",
       "        text-align: right;\n",
       "    }\n",
       "</style>\n",
       "<table border=\"1\" class=\"dataframe\">\n",
       "  <thead>\n",
       "    <tr style=\"text-align: right;\">\n",
       "      <th></th>\n",
       "      <th>uid</th>\n",
       "      <th>song_id</th>\n",
       "      <th>rating</th>\n",
       "    </tr>\n",
       "  </thead>\n",
       "  <tbody>\n",
       "    <tr>\n",
       "      <th>1290</th>\n",
       "      <td>167778904</td>\n",
       "      <td>896522</td>\n",
       "      <td>0.397186</td>\n",
       "    </tr>\n",
       "    <tr>\n",
       "      <th>1291</th>\n",
       "      <td>167778904</td>\n",
       "      <td>900839</td>\n",
       "      <td>0.400000</td>\n",
       "    </tr>\n",
       "    <tr>\n",
       "      <th>1292</th>\n",
       "      <td>167778904</td>\n",
       "      <td>3418611</td>\n",
       "      <td>0.400000</td>\n",
       "    </tr>\n",
       "    <tr>\n",
       "      <th>2216</th>\n",
       "      <td>167934381</td>\n",
       "      <td>324240</td>\n",
       "      <td>0.217088</td>\n",
       "    </tr>\n",
       "    <tr>\n",
       "      <th>2217</th>\n",
       "      <td>167934381</td>\n",
       "      <td>448491</td>\n",
       "      <td>0.743365</td>\n",
       "    </tr>\n",
       "  </tbody>\n",
       "</table>\n",
       "</div>"
      ],
      "text/plain": [
       "            uid  song_id    rating\n",
       "1290  167778904   896522  0.397186\n",
       "1291  167778904   900839  0.400000\n",
       "1292  167778904  3418611  0.400000\n",
       "2216  167934381   324240  0.217088\n",
       "2217  167934381   448491  0.743365"
      ]
     },
     "execution_count": 16,
     "metadata": {},
     "output_type": "execute_result"
    }
   ],
   "source": [
    "upload_small.head(5)"
   ]
  },
  {
   "cell_type": "code",
   "execution_count": 17,
   "metadata": {},
   "outputs": [],
   "source": [
    "upload_small.to_csv('../data/rec/rec_test.csv', index=False)"
   ]
  }
 ],
 "metadata": {
  "kernelspec": {
   "display_name": "Python 3",
   "language": "python",
   "name": "python3"
  },
  "language_info": {
   "codemirror_mode": {
    "name": "ipython",
    "version": 3
   },
   "file_extension": ".py",
   "mimetype": "text/x-python",
   "name": "python",
   "nbconvert_exporter": "python",
   "pygments_lexer": "ipython3",
   "version": "3.7.2"
  }
 },
 "nbformat": 4,
 "nbformat_minor": 2
}
